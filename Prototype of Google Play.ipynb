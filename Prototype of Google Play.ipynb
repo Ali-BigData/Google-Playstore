{
 "cells": [
  {
   "cell_type": "markdown",
   "metadata": {},
   "source": [
    "# Invistigation of the Google dataset."
   ]
  },
  {
   "cell_type": "markdown",
   "metadata": {},
   "source": [
    "The aim of this prototype to take a prophylactic approach and improve the revenue of undervalued Google's apps to motivate the developers to keep working on them.\n",
    "\n",
    "Since her department's budget for marketing won't allow her to invest on ads (which would boost the number of sales), the only way to improve the revenue is by tweaking the price. She requests that you determine which paid apps are undervalued (undervalued here means that their price could be increased without lowering demand).\n",
    "The prototype conducted in order to achieve:\n",
    "\n",
    "1.Having a prototype makes it much easier to estimate the cost of a fully fleshed-out project, be it human, technological, or financial resources.\n",
    "\n",
    "2.Having a more accurate estimate of the cost allows decision-makers to not go through with the project if it doesn't seem profitable enough, or not the best allocation of resources at that point in time.\n",
    "\n",
    "3.It allows grunt workers (like ourselves) to change and add missing requirements to complete the project. Oftentimes these are overlooked and only spotted later; some examples are missing data, the creation of a new database, the development of an API.\n",
    "\n",
    "4.It allows business people (like the account manager) to tweak the project's goal.\n",
    "\n",
    "5.It gives all stakeholders an opportunity to add easily accomplishable side-goals given the main goal, thus maximizing the project's output"
   ]
  },
  {
   "cell_type": "code",
   "execution_count": 29,
   "metadata": {},
   "outputs": [
    {
     "name": "stdout",
     "output_type": "stream",
     "text": [
      "(10841, 13)\n"
     ]
    }
   ],
   "source": [
    "import pandas as pd\n",
    "import numpy as np\n",
    "\n",
    "playstore = pd.read_csv(\"googleplaystore.csv\")\n",
    "print(playstore.shape)"
   ]
  },
  {
   "cell_type": "code",
   "execution_count": 30,
   "metadata": {},
   "outputs": [],
   "source": [
    "playstore.drop(labels=10472, inplace=True)\n"
   ]
  },
  {
   "cell_type": "code",
   "execution_count": 31,
   "metadata": {},
   "outputs": [
    {
     "name": "stdout",
     "output_type": "stream",
     "text": [
      "<class 'pandas.core.frame.DataFrame'>\n",
      "Int64Index: 10840 entries, 0 to 10840\n",
      "Data columns (total 13 columns):\n",
      " #   Column          Non-Null Count  Dtype  \n",
      "---  ------          --------------  -----  \n",
      " 0   App             10840 non-null  object \n",
      " 1   Category        10840 non-null  object \n",
      " 2   Rating          9366 non-null   float64\n",
      " 3   Reviews         10840 non-null  object \n",
      " 4   Size            10840 non-null  object \n",
      " 5   Installs        10840 non-null  object \n",
      " 6   Type            10839 non-null  object \n",
      " 7   Price           10840 non-null  object \n",
      " 8   Content Rating  10840 non-null  object \n",
      " 9   Genres          10840 non-null  object \n",
      " 10  Last Updated    10840 non-null  object \n",
      " 11  Current Ver     10832 non-null  object \n",
      " 12  Android Ver     10838 non-null  object \n",
      "dtypes: float64(1), object(12)\n",
      "memory usage: 1.2+ MB\n"
     ]
    }
   ],
   "source": [
    "playstore.info()\n"
   ]
  },
  {
   "cell_type": "markdown",
   "metadata": {},
   "source": [
    "We notice that there are several columns which should have a numeric format but whose type is object. Specifically, Reviews, Size, and Price. We've saved you the trouble of exploring the issues with these columns."
   ]
  },
  {
   "cell_type": "code",
   "execution_count": 32,
   "metadata": {},
   "outputs": [],
   "source": [
    "playstore['Price'] = playstore['Price'].str.replace(\"$\",\"\").astype(float)\n"
   ]
  },
  {
   "cell_type": "markdown",
   "metadata": {},
   "source": [
    "Now that Price has been dealt with, we can focus on the paid apps"
   ]
  },
  {
   "cell_type": "code",
   "execution_count": 33,
   "metadata": {},
   "outputs": [
    {
     "data": {
      "text/html": [
       "<div>\n",
       "<style scoped>\n",
       "    .dataframe tbody tr th:only-of-type {\n",
       "        vertical-align: middle;\n",
       "    }\n",
       "\n",
       "    .dataframe tbody tr th {\n",
       "        vertical-align: top;\n",
       "    }\n",
       "\n",
       "    .dataframe thead th {\n",
       "        text-align: right;\n",
       "    }\n",
       "</style>\n",
       "<table border=\"1\" class=\"dataframe\">\n",
       "  <thead>\n",
       "    <tr style=\"text-align: right;\">\n",
       "      <th></th>\n",
       "      <th>App</th>\n",
       "      <th>Category</th>\n",
       "      <th>Rating</th>\n",
       "      <th>Reviews</th>\n",
       "      <th>Size</th>\n",
       "      <th>Installs</th>\n",
       "      <th>Type</th>\n",
       "      <th>Price</th>\n",
       "      <th>Content Rating</th>\n",
       "      <th>Genres</th>\n",
       "      <th>Last Updated</th>\n",
       "      <th>Current Ver</th>\n",
       "      <th>Android Ver</th>\n",
       "    </tr>\n",
       "  </thead>\n",
       "  <tbody>\n",
       "    <tr>\n",
       "      <th>234</th>\n",
       "      <td>TurboScan: scan documents and receipts in PDF</td>\n",
       "      <td>BUSINESS</td>\n",
       "      <td>4.7</td>\n",
       "      <td>11442</td>\n",
       "      <td>6.8M</td>\n",
       "      <td>100,000+</td>\n",
       "      <td>Paid</td>\n",
       "      <td>4.99</td>\n",
       "      <td>Everyone</td>\n",
       "      <td>Business</td>\n",
       "      <td>March 25, 2018</td>\n",
       "      <td>1.5.2</td>\n",
       "      <td>4.0 and up</td>\n",
       "    </tr>\n",
       "    <tr>\n",
       "      <th>235</th>\n",
       "      <td>Tiny Scanner Pro: PDF Doc Scan</td>\n",
       "      <td>BUSINESS</td>\n",
       "      <td>4.8</td>\n",
       "      <td>10295</td>\n",
       "      <td>39M</td>\n",
       "      <td>100,000+</td>\n",
       "      <td>Paid</td>\n",
       "      <td>4.99</td>\n",
       "      <td>Everyone</td>\n",
       "      <td>Business</td>\n",
       "      <td>April 11, 2017</td>\n",
       "      <td>3.4.6</td>\n",
       "      <td>3.0 and up</td>\n",
       "    </tr>\n",
       "    <tr>\n",
       "      <th>290</th>\n",
       "      <td>TurboScan: scan documents and receipts in PDF</td>\n",
       "      <td>BUSINESS</td>\n",
       "      <td>4.7</td>\n",
       "      <td>11442</td>\n",
       "      <td>6.8M</td>\n",
       "      <td>100,000+</td>\n",
       "      <td>Paid</td>\n",
       "      <td>4.99</td>\n",
       "      <td>Everyone</td>\n",
       "      <td>Business</td>\n",
       "      <td>March 25, 2018</td>\n",
       "      <td>1.5.2</td>\n",
       "      <td>4.0 and up</td>\n",
       "    </tr>\n",
       "    <tr>\n",
       "      <th>291</th>\n",
       "      <td>Tiny Scanner Pro: PDF Doc Scan</td>\n",
       "      <td>BUSINESS</td>\n",
       "      <td>4.8</td>\n",
       "      <td>10295</td>\n",
       "      <td>39M</td>\n",
       "      <td>100,000+</td>\n",
       "      <td>Paid</td>\n",
       "      <td>4.99</td>\n",
       "      <td>Everyone</td>\n",
       "      <td>Business</td>\n",
       "      <td>April 11, 2017</td>\n",
       "      <td>3.4.6</td>\n",
       "      <td>3.0 and up</td>\n",
       "    </tr>\n",
       "    <tr>\n",
       "      <th>427</th>\n",
       "      <td>Puffin Browser Pro</td>\n",
       "      <td>COMMUNICATION</td>\n",
       "      <td>4.0</td>\n",
       "      <td>18247</td>\n",
       "      <td>Varies with device</td>\n",
       "      <td>100,000+</td>\n",
       "      <td>Paid</td>\n",
       "      <td>3.99</td>\n",
       "      <td>Everyone</td>\n",
       "      <td>Communication</td>\n",
       "      <td>July 5, 2018</td>\n",
       "      <td>7.5.3.20547</td>\n",
       "      <td>4.1 and up</td>\n",
       "    </tr>\n",
       "  </tbody>\n",
       "</table>\n",
       "</div>"
      ],
      "text/plain": [
       "                                               App       Category  Rating  \\\n",
       "234  TurboScan: scan documents and receipts in PDF       BUSINESS     4.7   \n",
       "235                 Tiny Scanner Pro: PDF Doc Scan       BUSINESS     4.8   \n",
       "290  TurboScan: scan documents and receipts in PDF       BUSINESS     4.7   \n",
       "291                 Tiny Scanner Pro: PDF Doc Scan       BUSINESS     4.8   \n",
       "427                             Puffin Browser Pro  COMMUNICATION     4.0   \n",
       "\n",
       "    Reviews                Size  Installs  Type  Price Content Rating  \\\n",
       "234   11442                6.8M  100,000+  Paid   4.99       Everyone   \n",
       "235   10295                 39M  100,000+  Paid   4.99       Everyone   \n",
       "290   11442                6.8M  100,000+  Paid   4.99       Everyone   \n",
       "291   10295                 39M  100,000+  Paid   4.99       Everyone   \n",
       "427   18247  Varies with device  100,000+  Paid   3.99       Everyone   \n",
       "\n",
       "            Genres    Last Updated  Current Ver Android Ver  \n",
       "234       Business  March 25, 2018        1.5.2  4.0 and up  \n",
       "235       Business  April 11, 2017        3.4.6  3.0 and up  \n",
       "290       Business  March 25, 2018        1.5.2  4.0 and up  \n",
       "291       Business  April 11, 2017        3.4.6  3.0 and up  \n",
       "427  Communication    July 5, 2018  7.5.3.20547  4.1 and up  "
      ]
     },
     "execution_count": 33,
     "metadata": {},
     "output_type": "execute_result"
    }
   ],
   "source": [
    "paid = playstore.loc[playstore['Price'] !=0].copy()\n",
    "\n",
    "#Alternatively we can run\n",
    "#paid = playstore[playstore[\"Type\"] == \"Paid\"].copy()\n",
    "paid.head(5)\n"
   ]
  },
  {
   "cell_type": "markdown",
   "metadata": {},
   "source": [
    "# Drop the Type column from paid"
   ]
  },
  {
   "cell_type": "code",
   "execution_count": 34,
   "metadata": {},
   "outputs": [],
   "source": [
    "\n",
    "paid.drop('Type', axis=\"columns\", inplace=True)\n"
   ]
  },
  {
   "cell_type": "code",
   "execution_count": 35,
   "metadata": {},
   "outputs": [
    {
     "name": "stdout",
     "output_type": "stream",
     "text": [
      "<class 'pandas.core.frame.DataFrame'>\n",
      "Int64Index: 800 entries, 234 to 10798\n",
      "Data columns (total 12 columns):\n",
      " #   Column          Non-Null Count  Dtype  \n",
      "---  ------          --------------  -----  \n",
      " 0   App             800 non-null    object \n",
      " 1   Category        800 non-null    object \n",
      " 2   Rating          647 non-null    float64\n",
      " 3   Reviews         800 non-null    int64  \n",
      " 4   Size            724 non-null    float64\n",
      " 5   Installs        800 non-null    object \n",
      " 6   Price           800 non-null    float64\n",
      " 7   Content Rating  800 non-null    object \n",
      " 8   Genres          800 non-null    object \n",
      " 9   Last Updated    800 non-null    object \n",
      " 10  Current Ver     798 non-null    object \n",
      " 11  Android Ver     799 non-null    object \n",
      "dtypes: float64(3), int64(1), object(8)\n",
      "memory usage: 81.2+ KB\n"
     ]
    }
   ],
   "source": [
    "def clean_size(size):\n",
    "#     \"\"\"Convert file size string to float and megabytes\"\"\"\n",
    "    size = size.replace(\"M\",\"\")\n",
    "    if size.endswith(\"k\"):\n",
    "        size = float(size[:-1])/1000\n",
    "    if size =='Varies with device':\n",
    "        size = np.NaN\n",
    "    \n",
    "    else:\n",
    "        size = float(size)\n",
    "    return size\n",
    "\n",
    "\n",
    "paid[\"Reviews\"] = paid[\"Reviews\"].astype(int)\n",
    "paid[\"Size\"] = paid[\"Size\"].apply(clean_size).astype(float)\n",
    "paid.info()\n"
   ]
  },
  {
   "cell_type": "markdown",
   "metadata": {},
   "source": [
    "# Dropping the duplicate values."
   ]
  },
  {
   "cell_type": "code",
   "execution_count": 36,
   "metadata": {},
   "outputs": [
    {
     "name": "stdout",
     "output_type": "stream",
     "text": [
      "The number of rows before dropping duplicates 800:\n"
     ]
    }
   ],
   "source": [
    "\n",
    "print('The number of rows before dropping duplicates {}:'.format(paid.shape[0]))\n"
   ]
  },
  {
   "cell_type": "code",
   "execution_count": 37,
   "metadata": {},
   "outputs": [
    {
     "data": {
      "text/html": [
       "<div>\n",
       "<style scoped>\n",
       "    .dataframe tbody tr th:only-of-type {\n",
       "        vertical-align: middle;\n",
       "    }\n",
       "\n",
       "    .dataframe tbody tr th {\n",
       "        vertical-align: top;\n",
       "    }\n",
       "\n",
       "    .dataframe thead th {\n",
       "        text-align: right;\n",
       "    }\n",
       "</style>\n",
       "<table border=\"1\" class=\"dataframe\">\n",
       "  <thead>\n",
       "    <tr style=\"text-align: right;\">\n",
       "      <th></th>\n",
       "      <th>App</th>\n",
       "      <th>Category</th>\n",
       "      <th>Rating</th>\n",
       "      <th>Reviews</th>\n",
       "      <th>Size</th>\n",
       "      <th>Installs</th>\n",
       "      <th>Price</th>\n",
       "      <th>Content Rating</th>\n",
       "      <th>Genres</th>\n",
       "      <th>Last Updated</th>\n",
       "      <th>Current Ver</th>\n",
       "      <th>Android Ver</th>\n",
       "    </tr>\n",
       "  </thead>\n",
       "  <tbody>\n",
       "    <tr>\n",
       "      <th>10735</th>\n",
       "      <td>FP VoiceBot</td>\n",
       "      <td>FAMILY</td>\n",
       "      <td>NaN</td>\n",
       "      <td>17</td>\n",
       "      <td>0.157</td>\n",
       "      <td>100+</td>\n",
       "      <td>0.99</td>\n",
       "      <td>Mature 17+</td>\n",
       "      <td>Entertainment</td>\n",
       "      <td>November 25, 2015</td>\n",
       "      <td>1.2</td>\n",
       "      <td>2.1 and up</td>\n",
       "    </tr>\n",
       "    <tr>\n",
       "      <th>10760</th>\n",
       "      <td>Fast Tract Diet</td>\n",
       "      <td>HEALTH_AND_FITNESS</td>\n",
       "      <td>4.4</td>\n",
       "      <td>35</td>\n",
       "      <td>2.400</td>\n",
       "      <td>1,000+</td>\n",
       "      <td>7.99</td>\n",
       "      <td>Everyone</td>\n",
       "      <td>Health &amp; Fitness</td>\n",
       "      <td>August 8, 2018</td>\n",
       "      <td>1.9.3</td>\n",
       "      <td>4.2 and up</td>\n",
       "    </tr>\n",
       "    <tr>\n",
       "      <th>10782</th>\n",
       "      <td>Trine 2: Complete Story</td>\n",
       "      <td>GAME</td>\n",
       "      <td>3.8</td>\n",
       "      <td>252</td>\n",
       "      <td>11.000</td>\n",
       "      <td>10,000+</td>\n",
       "      <td>16.99</td>\n",
       "      <td>Teen</td>\n",
       "      <td>Action</td>\n",
       "      <td>February 27, 2015</td>\n",
       "      <td>2.22</td>\n",
       "      <td>5.0 and up</td>\n",
       "    </tr>\n",
       "    <tr>\n",
       "      <th>10785</th>\n",
       "      <td>sugar, sugar</td>\n",
       "      <td>FAMILY</td>\n",
       "      <td>4.2</td>\n",
       "      <td>1405</td>\n",
       "      <td>9.500</td>\n",
       "      <td>10,000+</td>\n",
       "      <td>1.20</td>\n",
       "      <td>Everyone</td>\n",
       "      <td>Puzzle</td>\n",
       "      <td>June 5, 2018</td>\n",
       "      <td>2.7</td>\n",
       "      <td>2.3 and up</td>\n",
       "    </tr>\n",
       "    <tr>\n",
       "      <th>10798</th>\n",
       "      <td>Word Search Tab 1 FR</td>\n",
       "      <td>FAMILY</td>\n",
       "      <td>NaN</td>\n",
       "      <td>0</td>\n",
       "      <td>1.020</td>\n",
       "      <td>50+</td>\n",
       "      <td>1.04</td>\n",
       "      <td>Everyone</td>\n",
       "      <td>Puzzle</td>\n",
       "      <td>February 6, 2012</td>\n",
       "      <td>1.1</td>\n",
       "      <td>3.0 and up</td>\n",
       "    </tr>\n",
       "  </tbody>\n",
       "</table>\n",
       "</div>"
      ],
      "text/plain": [
       "                           App            Category  Rating  Reviews    Size  \\\n",
       "10735              FP VoiceBot              FAMILY     NaN       17   0.157   \n",
       "10760          Fast Tract Diet  HEALTH_AND_FITNESS     4.4       35   2.400   \n",
       "10782  Trine 2: Complete Story                GAME     3.8      252  11.000   \n",
       "10785             sugar, sugar              FAMILY     4.2     1405   9.500   \n",
       "10798     Word Search Tab 1 FR              FAMILY     NaN        0   1.020   \n",
       "\n",
       "      Installs  Price Content Rating            Genres       Last Updated  \\\n",
       "10735     100+   0.99     Mature 17+     Entertainment  November 25, 2015   \n",
       "10760   1,000+   7.99       Everyone  Health & Fitness     August 8, 2018   \n",
       "10782  10,000+  16.99           Teen            Action  February 27, 2015   \n",
       "10785  10,000+   1.20       Everyone            Puzzle       June 5, 2018   \n",
       "10798      50+   1.04       Everyone            Puzzle   February 6, 2012   \n",
       "\n",
       "      Current Ver Android Ver  \n",
       "10735         1.2  2.1 and up  \n",
       "10760       1.9.3  4.2 and up  \n",
       "10782        2.22  5.0 and up  \n",
       "10785         2.7  2.3 and up  \n",
       "10798         1.1  3.0 and up  "
      ]
     },
     "execution_count": 37,
     "metadata": {},
     "output_type": "execute_result"
    }
   ],
   "source": [
    "paid.tail(5)\n"
   ]
  },
  {
   "cell_type": "raw",
   "metadata": {},
   "source": [
    "We'll save you the trouble of inspecting these rows. Each duplicate exists for one of two reasons:\n",
    "\n",
    "    Everything is equal except the category\n",
    "    Everything is equal except the number of reviews\n",
    "\n",
    "The instances of the first reason are the apps Fuzzy Numbers: Pre-K Number Foundation and Toca Life: City, which both appear with the categories EDUCATION and FAMILY. Investigating the apps on the Play Store leads us to conclude that the FAMILY category isn't correct, so we'll get rid of these rows:\n"
   ]
  },
  {
   "cell_type": "code",
   "execution_count": 38,
   "metadata": {},
   "outputs": [
    {
     "data": {
      "text/html": [
       "<div>\n",
       "<style scoped>\n",
       "    .dataframe tbody tr th:only-of-type {\n",
       "        vertical-align: middle;\n",
       "    }\n",
       "\n",
       "    .dataframe tbody tr th {\n",
       "        vertical-align: top;\n",
       "    }\n",
       "\n",
       "    .dataframe thead th {\n",
       "        text-align: right;\n",
       "    }\n",
       "</style>\n",
       "<table border=\"1\" class=\"dataframe\">\n",
       "  <thead>\n",
       "    <tr style=\"text-align: right;\">\n",
       "      <th></th>\n",
       "      <th>App</th>\n",
       "      <th>Category</th>\n",
       "      <th>Rating</th>\n",
       "      <th>Reviews</th>\n",
       "      <th>Size</th>\n",
       "      <th>Installs</th>\n",
       "      <th>Price</th>\n",
       "      <th>Content Rating</th>\n",
       "      <th>Genres</th>\n",
       "      <th>Last Updated</th>\n",
       "      <th>Current Ver</th>\n",
       "      <th>Android Ver</th>\n",
       "    </tr>\n",
       "  </thead>\n",
       "  <tbody>\n",
       "    <tr>\n",
       "      <th>2151</th>\n",
       "      <td>Toca Life: City</td>\n",
       "      <td>FAMILY</td>\n",
       "      <td>4.7</td>\n",
       "      <td>31100</td>\n",
       "      <td>24.0</td>\n",
       "      <td>500,000+</td>\n",
       "      <td>3.99</td>\n",
       "      <td>Everyone</td>\n",
       "      <td>Education;Pretend Play</td>\n",
       "      <td>July 6, 2018</td>\n",
       "      <td>1.5-play</td>\n",
       "      <td>4.4 and up</td>\n",
       "    </tr>\n",
       "    <tr>\n",
       "      <th>4301</th>\n",
       "      <td>Fuzzy Numbers: Pre-K Number Foundation</td>\n",
       "      <td>FAMILY</td>\n",
       "      <td>4.7</td>\n",
       "      <td>21</td>\n",
       "      <td>44.0</td>\n",
       "      <td>1,000+</td>\n",
       "      <td>5.99</td>\n",
       "      <td>Everyone</td>\n",
       "      <td>Education;Education</td>\n",
       "      <td>July 21, 2017</td>\n",
       "      <td>1.3</td>\n",
       "      <td>4.1 and up</td>\n",
       "    </tr>\n",
       "  </tbody>\n",
       "</table>\n",
       "</div>"
      ],
      "text/plain": [
       "                                         App Category  Rating  Reviews  Size  \\\n",
       "2151                         Toca Life: City   FAMILY     4.7    31100  24.0   \n",
       "4301  Fuzzy Numbers: Pre-K Number Foundation   FAMILY     4.7       21  44.0   \n",
       "\n",
       "      Installs  Price Content Rating                  Genres   Last Updated  \\\n",
       "2151  500,000+   3.99       Everyone  Education;Pretend Play   July 6, 2018   \n",
       "4301    1,000+   5.99       Everyone     Education;Education  July 21, 2017   \n",
       "\n",
       "     Current Ver Android Ver  \n",
       "2151    1.5-play  4.4 and up  \n",
       "4301         1.3  4.1 and up  "
      ]
     },
     "execution_count": 38,
     "metadata": {},
     "output_type": "execute_result"
    }
   ],
   "source": [
    "app_mask =paid['App'].isin(['Fuzzy Numbers: Pre-K Number Foundation', \"Toca Life: City\"])\n",
    "category_mask = paid[\"Category\"]=='FAMILY'\n",
    "\n",
    "paid[app_mask& category_mask]\n"
   ]
  },
  {
   "cell_type": "markdown",
   "metadata": {},
   "source": [
    "Now that we've identified the labels, we can drop these rows:"
   ]
  },
  {
   "cell_type": "code",
   "execution_count": 39,
   "metadata": {},
   "outputs": [
    {
     "name": "stdout",
     "output_type": "stream",
     "text": [
      "The number of rows before dropping duplicates 44:\n"
     ]
    }
   ],
   "source": [
    "print('The number of rows before dropping duplicates {}:'.format(paid[\"App\"].duplicated().sum()))"
   ]
  },
  {
   "cell_type": "code",
   "execution_count": 40,
   "metadata": {},
   "outputs": [],
   "source": [
    "paid.drop([2151,4301],inplace=True)\n",
    "\n",
    "# paid.drop(labels=[2151,4301],inplace=True)\n"
   ]
  },
  {
   "cell_type": "code",
   "execution_count": 41,
   "metadata": {},
   "outputs": [
    {
     "name": "stdout",
     "output_type": "stream",
     "text": [
      "The number of rows after dropping duplicates 42:\n"
     ]
    }
   ],
   "source": [
    "print('The number of rows after dropping duplicates {}:'.format(paid.duplicated(subset=[\"App\"]).sum()))\n"
   ]
  },
  {
   "cell_type": "raw",
   "metadata": {},
   "source": [
    "Reset the index of paid.\n",
    "    Pass True to the drop argument in order to not save the old index."
   ]
  },
  {
   "cell_type": "code",
   "execution_count": 42,
   "metadata": {},
   "outputs": [],
   "source": [
    "paid.reset_index(inplace=True, drop=True)\n",
    "\n"
   ]
  },
  {
   "cell_type": "markdown",
   "metadata": {},
   "source": [
    "# Identify the research request."
   ]
  },
  {
   "cell_type": "raw",
   "metadata": {},
   "source": [
    "Note that we still haven't defined what \"undervalued apps\" means here. The science in data science is partially justified by the fact that some kinds of problems we encounter need research to even be properly defined. We need to get to know the data before contemplating what proxy to use to approximate the concept of undervalued.\n",
    "\n",
    "Since this request is centered on the price, we'll start with that column. Let's create a histogram for this column:"
   ]
  },
  {
   "cell_type": "code",
   "execution_count": 43,
   "metadata": {},
   "outputs": [
    {
     "data": {
      "text/plain": [
       "array([[<matplotlib.axes._subplots.AxesSubplot object at 0x7f96e4c8e2d0>]],\n",
       "      dtype=object)"
      ]
     },
     "execution_count": 43,
     "metadata": {},
     "output_type": "execute_result"
    },
    {
     "data": {
      "image/png": "[encoded data removed]",
      "text/plain": [
       "<Figure size 864x432 with 1 Axes>"
      ]
     },
     "metadata": {
      "needs_background": "light"
     },
     "output_type": "display_data"
    }
   ],
   "source": [
    "paid.hist('Price', grid=True, figsize=(12,6))\n"
   ]
  },
  {
   "cell_type": "markdown",
   "metadata": {},
   "source": [
    "It seem that The distributions of prices is heavily skewed to the right and we have a few outliers."
   ]
  },
  {
   "cell_type": "code",
   "execution_count": 44,
   "metadata": {},
   "outputs": [
    {
     "data": {
      "text/html": [
       "<div>\n",
       "<style scoped>\n",
       "    .dataframe tbody tr th:only-of-type {\n",
       "        vertical-align: middle;\n",
       "    }\n",
       "\n",
       "    .dataframe tbody tr th {\n",
       "        vertical-align: top;\n",
       "    }\n",
       "\n",
       "    .dataframe thead th {\n",
       "        text-align: right;\n",
       "    }\n",
       "</style>\n",
       "<table border=\"1\" class=\"dataframe\">\n",
       "  <thead>\n",
       "    <tr style=\"text-align: right;\">\n",
       "      <th></th>\n",
       "      <th>App</th>\n",
       "      <th>Category</th>\n",
       "      <th>Rating</th>\n",
       "      <th>Reviews</th>\n",
       "      <th>Size</th>\n",
       "      <th>Installs</th>\n",
       "      <th>Price</th>\n",
       "      <th>Content Rating</th>\n",
       "      <th>Genres</th>\n",
       "      <th>Last Updated</th>\n",
       "      <th>Current Ver</th>\n",
       "      <th>Android Ver</th>\n",
       "    </tr>\n",
       "  </thead>\n",
       "  <tbody>\n",
       "    <tr>\n",
       "      <th>213</th>\n",
       "      <td>I'm Rich - Trump Edition</td>\n",
       "      <td>LIFESTYLE</td>\n",
       "      <td>3.6</td>\n",
       "      <td>275</td>\n",
       "      <td>7.300</td>\n",
       "      <td>10,000+</td>\n",
       "      <td>400.00</td>\n",
       "      <td>Everyone</td>\n",
       "      <td>Lifestyle</td>\n",
       "      <td>May 3, 2018</td>\n",
       "      <td>1.0.1</td>\n",
       "      <td>4.1 and up</td>\n",
       "    </tr>\n",
       "    <tr>\n",
       "      <th>200</th>\n",
       "      <td>most expensive app (H)</td>\n",
       "      <td>FAMILY</td>\n",
       "      <td>4.3</td>\n",
       "      <td>6</td>\n",
       "      <td>1.500</td>\n",
       "      <td>100+</td>\n",
       "      <td>399.99</td>\n",
       "      <td>Everyone</td>\n",
       "      <td>Entertainment</td>\n",
       "      <td>July 16, 2018</td>\n",
       "      <td>1.0</td>\n",
       "      <td>7.0 and up</td>\n",
       "    </tr>\n",
       "    <tr>\n",
       "      <th>349</th>\n",
       "      <td>I am rich (Most expensive app)</td>\n",
       "      <td>FINANCE</td>\n",
       "      <td>4.1</td>\n",
       "      <td>129</td>\n",
       "      <td>2.700</td>\n",
       "      <td>1,000+</td>\n",
       "      <td>399.99</td>\n",
       "      <td>Teen</td>\n",
       "      <td>Finance</td>\n",
       "      <td>December 6, 2017</td>\n",
       "      <td>2</td>\n",
       "      <td>4.0.3 and up</td>\n",
       "    </tr>\n",
       "    <tr>\n",
       "      <th>212</th>\n",
       "      <td>💎 I'm rich</td>\n",
       "      <td>LIFESTYLE</td>\n",
       "      <td>3.8</td>\n",
       "      <td>718</td>\n",
       "      <td>26.000</td>\n",
       "      <td>10,000+</td>\n",
       "      <td>399.99</td>\n",
       "      <td>Everyone</td>\n",
       "      <td>Lifestyle</td>\n",
       "      <td>March 11, 2018</td>\n",
       "      <td>1.0.0</td>\n",
       "      <td>4.4 and up</td>\n",
       "    </tr>\n",
       "    <tr>\n",
       "      <th>354</th>\n",
       "      <td>I AM RICH PRO PLUS</td>\n",
       "      <td>FINANCE</td>\n",
       "      <td>4.0</td>\n",
       "      <td>36</td>\n",
       "      <td>41.000</td>\n",
       "      <td>1,000+</td>\n",
       "      <td>399.99</td>\n",
       "      <td>Everyone</td>\n",
       "      <td>Finance</td>\n",
       "      <td>June 25, 2018</td>\n",
       "      <td>1.0.2</td>\n",
       "      <td>4.1 and up</td>\n",
       "    </tr>\n",
       "    <tr>\n",
       "      <th>...</th>\n",
       "      <td>...</td>\n",
       "      <td>...</td>\n",
       "      <td>...</td>\n",
       "      <td>...</td>\n",
       "      <td>...</td>\n",
       "      <td>...</td>\n",
       "      <td>...</td>\n",
       "      <td>...</td>\n",
       "      <td>...</td>\n",
       "      <td>...</td>\n",
       "      <td>...</td>\n",
       "      <td>...</td>\n",
       "    </tr>\n",
       "    <tr>\n",
       "      <th>168</th>\n",
       "      <td>B-52 Spirits of Glory Deluxe</td>\n",
       "      <td>GAME</td>\n",
       "      <td>4.3</td>\n",
       "      <td>12</td>\n",
       "      <td>29.000</td>\n",
       "      <td>100+</td>\n",
       "      <td>0.99</td>\n",
       "      <td>Everyone</td>\n",
       "      <td>Arcade</td>\n",
       "      <td>September 2, 2017</td>\n",
       "      <td>1.5.9</td>\n",
       "      <td>2.3 and up</td>\n",
       "    </tr>\n",
       "    <tr>\n",
       "      <th>288</th>\n",
       "      <td>X Back - Icon Pack</td>\n",
       "      <td>PERSONALIZATION</td>\n",
       "      <td>4.5</td>\n",
       "      <td>56</td>\n",
       "      <td>26.000</td>\n",
       "      <td>10,000+</td>\n",
       "      <td>0.99</td>\n",
       "      <td>Everyone</td>\n",
       "      <td>Personalization</td>\n",
       "      <td>June 29, 2018</td>\n",
       "      <td>1.6.2</td>\n",
       "      <td>4.1 and up</td>\n",
       "    </tr>\n",
       "    <tr>\n",
       "      <th>563</th>\n",
       "      <td>CT and XR Dose Calculator</td>\n",
       "      <td>MEDICAL</td>\n",
       "      <td>NaN</td>\n",
       "      <td>3</td>\n",
       "      <td>0.097</td>\n",
       "      <td>50+</td>\n",
       "      <td>0.99</td>\n",
       "      <td>Everyone</td>\n",
       "      <td>Medical</td>\n",
       "      <td>January 22, 2014</td>\n",
       "      <td>2014.01</td>\n",
       "      <td>1.6 and up</td>\n",
       "    </tr>\n",
       "    <tr>\n",
       "      <th>559</th>\n",
       "      <td>Emergency Brain CT</td>\n",
       "      <td>MEDICAL</td>\n",
       "      <td>NaN</td>\n",
       "      <td>2</td>\n",
       "      <td>19.000</td>\n",
       "      <td>10+</td>\n",
       "      <td>0.99</td>\n",
       "      <td>Everyone</td>\n",
       "      <td>Medical</td>\n",
       "      <td>April 17, 2018</td>\n",
       "      <td>1.0.0</td>\n",
       "      <td>4.1 and up</td>\n",
       "    </tr>\n",
       "    <tr>\n",
       "      <th>252</th>\n",
       "      <td>Q Alerts: QAnon Drop Notifications, Research +++</td>\n",
       "      <td>NEWS_AND_MAGAZINES</td>\n",
       "      <td>4.7</td>\n",
       "      <td>143</td>\n",
       "      <td>26.000</td>\n",
       "      <td>5,000+</td>\n",
       "      <td>0.99</td>\n",
       "      <td>Mature 17+</td>\n",
       "      <td>News &amp; Magazines</td>\n",
       "      <td>July 26, 2018</td>\n",
       "      <td>4.1.10</td>\n",
       "      <td>4.1 and up</td>\n",
       "    </tr>\n",
       "  </tbody>\n",
       "</table>\n",
       "<p>798 rows × 12 columns</p>\n",
       "</div>"
      ],
      "text/plain": [
       "                                                  App            Category  \\\n",
       "213                          I'm Rich - Trump Edition           LIFESTYLE   \n",
       "200                            most expensive app (H)              FAMILY   \n",
       "349                    I am rich (Most expensive app)             FINANCE   \n",
       "212                                        💎 I'm rich           LIFESTYLE   \n",
       "354                                I AM RICH PRO PLUS             FINANCE   \n",
       "..                                                ...                 ...   \n",
       "168                      B-52 Spirits of Glory Deluxe                GAME   \n",
       "288                                X Back - Icon Pack     PERSONALIZATION   \n",
       "563                         CT and XR Dose Calculator             MEDICAL   \n",
       "559                                Emergency Brain CT             MEDICAL   \n",
       "252  Q Alerts: QAnon Drop Notifications, Research +++  NEWS_AND_MAGAZINES   \n",
       "\n",
       "     Rating  Reviews    Size Installs   Price Content Rating  \\\n",
       "213     3.6      275   7.300  10,000+  400.00       Everyone   \n",
       "200     4.3        6   1.500     100+  399.99       Everyone   \n",
       "349     4.1      129   2.700   1,000+  399.99           Teen   \n",
       "212     3.8      718  26.000  10,000+  399.99       Everyone   \n",
       "354     4.0       36  41.000   1,000+  399.99       Everyone   \n",
       "..      ...      ...     ...      ...     ...            ...   \n",
       "168     4.3       12  29.000     100+    0.99       Everyone   \n",
       "288     4.5       56  26.000  10,000+    0.99       Everyone   \n",
       "563     NaN        3   0.097      50+    0.99       Everyone   \n",
       "559     NaN        2  19.000      10+    0.99       Everyone   \n",
       "252     4.7      143  26.000   5,000+    0.99     Mature 17+   \n",
       "\n",
       "               Genres       Last Updated Current Ver   Android Ver  \n",
       "213         Lifestyle        May 3, 2018       1.0.1    4.1 and up  \n",
       "200     Entertainment      July 16, 2018         1.0    7.0 and up  \n",
       "349           Finance   December 6, 2017           2  4.0.3 and up  \n",
       "212         Lifestyle     March 11, 2018       1.0.0    4.4 and up  \n",
       "354           Finance      June 25, 2018       1.0.2    4.1 and up  \n",
       "..                ...                ...         ...           ...  \n",
       "168            Arcade  September 2, 2017       1.5.9    2.3 and up  \n",
       "288   Personalization      June 29, 2018       1.6.2    4.1 and up  \n",
       "563           Medical   January 22, 2014     2014.01    1.6 and up  \n",
       "559           Medical     April 17, 2018       1.0.0    4.1 and up  \n",
       "252  News & Magazines      July 26, 2018      4.1.10    4.1 and up  \n",
       "\n",
       "[798 rows x 12 columns]"
      ]
     },
     "execution_count": 44,
     "metadata": {},
     "output_type": "execute_result"
    }
   ],
   "source": [
    "paid.sort_values('Price',ascending=False)"
   ]
  },
  {
   "cell_type": "markdown",
   "metadata": {},
   "source": [
    "It seems these apps are not only very niche, but they also would spoil our data, given how disparate the prices are from the others.\n",
    "\n",
    "Looking back at the histogram, it's clear that the vast majority of apps have a price significantly below $50. Let's restrict our analysis to these rows:"
   ]
  },
  {
   "cell_type": "code",
   "execution_count": 45,
   "metadata": {},
   "outputs": [
    {
     "data": {
      "text/plain": [
       "array([[<matplotlib.axes._subplots.AxesSubplot object at 0x7f96e51d6290>]],\n",
       "      dtype=object)"
      ]
     },
     "execution_count": 45,
     "metadata": {},
     "output_type": "execute_result"
    },
    {
     "data": {
      "image/png": "[encoded data removed]",
      "text/plain": [
       "<Figure size 576x360 with 1 Axes>"
      ]
     },
     "metadata": {
      "needs_background": "light"
     },
     "output_type": "display_data"
    }
   ],
   "source": [
    "\n",
    "affordable_apps = paid[paid[\"Price\"]<50].copy()\n",
    "affordable_apps.hist(column=\"Price\", grid=False, figsize=(8,5))\n"
   ]
  },
  {
   "cell_type": "code",
   "execution_count": 48,
   "metadata": {},
   "outputs": [
    {
     "data": {
      "text/plain": [
       "0       True\n",
       "1       True\n",
       "2       True\n",
       "3       True\n",
       "4       True\n",
       "       ...  \n",
       "793     True\n",
       "794    False\n",
       "795    False\n",
       "796     True\n",
       "797     True\n",
       "Name: Price, Length: 774, dtype: bool"
      ]
     },
     "execution_count": 48,
     "metadata": {},
     "output_type": "execute_result"
    }
   ],
   "source": [
    "# Create a mask called cheap to identify the apps in affordable_apps that cost less than $5.\n",
    "cheap = affordable_apps[\"Price\"] < 5\n",
    "\n",
    "# Create a mask called reasonable to identify the apps in affordable_apps that cost $5 or more.\n",
    "reasonable = affordable_apps[\"Price\"] >= 5\n"
   ]
  },
  {
   "cell_type": "code",
   "execution_count": 49,
   "metadata": {},
   "outputs": [
    {
     "data": {
      "text/plain": [
       "array([[<matplotlib.axes._subplots.AxesSubplot object at 0x7f96e56d1750>]],\n",
       "      dtype=object)"
      ]
     },
     "execution_count": 49,
     "metadata": {},
     "output_type": "execute_result"
    },
    {
     "data": {
      "image/png": "[encoded data removed]",
      "text/plain": [
       "<Figure size 864x432 with 1 Axes>"
      ]
     },
     "metadata": {
      "needs_background": "light"
     },
     "output_type": "display_data"
    },
    {
     "data": {
      "image/png": "[encoded data removed]",
      "text/plain": [
       "<Figure size 864x432 with 1 Axes>"
      ]
     },
     "metadata": {
      "needs_background": "light"
     },
     "output_type": "display_data"
    }
   ],
   "source": [
    "\n",
    "affordable_apps[cheap].hist(\"Price\", grid=False, figsize=(12,6))\n",
    "affordable_apps[reasonable].hist(\"Price\", grid=False, figsize=(12,6))\n"
   ]
  },
  {
   "cell_type": "raw",
   "metadata": {},
   "source": [
    "Create a column in affordable_apps called affordability. It should have the value cheap if the price is lower than 5, and reasonable otherwise"
   ]
  },
  {
   "cell_type": "code",
   "execution_count": 50,
   "metadata": {},
   "outputs": [
    {
     "data": {
      "text/plain": [
       "0           cheap\n",
       "1           cheap\n",
       "2           cheap\n",
       "3           cheap\n",
       "4           cheap\n",
       "          ...    \n",
       "793         cheap\n",
       "794    reasonable\n",
       "795    reasonable\n",
       "796         cheap\n",
       "797         cheap\n",
       "Name: affordability, Length: 774, dtype: object"
      ]
     },
     "execution_count": 50,
     "metadata": {},
     "output_type": "execute_result"
    }
   ],
   "source": [
    "affordable_apps['affordability'] = np.where(affordable_apps['Price']< 5, 'cheap', 'reasonable' )\n",
    "affordable_apps['affordability'] \n"
   ]
  },
  {
   "cell_type": "code",
   "execution_count": 55,
   "metadata": {},
   "outputs": [],
   "source": [
    "# or\n",
    "# affordable_apps[\"affordability\"] = affordable_apps['Price'].apply(lambda price :\"cheap\" if price <5 else 'reasonable')\n",
    "# affordable_apps[\"affordability\"] "
   ]
  },
  {
   "cell_type": "raw",
   "metadata": {},
   "source": [
    "Hint for pd.apply method asxi=\n",
    "axis{0 or ‘index’, 1 or ‘columns’}, default 0\n",
    "\n",
    "    Axis along which the function is applied:\n",
    "\n",
    "        0 or ‘index’: apply function to each column.\n",
    "\n",
    "        1 or ‘columns’: apply function to each row."
   ]
  },
  {
   "cell_type": "code",
   "execution_count": 56,
   "metadata": {},
   "outputs": [
    {
     "data": {
      "text/plain": [
       "A    12\n",
       "B    27\n",
       "dtype: int64"
      ]
     },
     "execution_count": 56,
     "metadata": {},
     "output_type": "execute_result"
    }
   ],
   "source": [
    "# Explanation\n",
    "df = pd.DataFrame([[4, 9]] * 3, columns=['A', 'B'])\n",
    "s= df.apply(np.sum, axis=0)\n",
    "s\n"
   ]
  },
  {
   "cell_type": "code",
   "execution_count": 57,
   "metadata": {},
   "outputs": [
    {
     "data": {
      "text/plain": [
       "0    13\n",
       "1    13\n",
       "2    13\n",
       "dtype: int64"
      ]
     },
     "execution_count": 57,
     "metadata": {},
     "output_type": "execute_result"
    }
   ],
   "source": [
    "ss = df.apply(np.sum, axis=1)\n",
    "ss"
   ]
  },
  {
   "cell_type": "raw",
   "metadata": {},
   "source": [
    "we saw that the reasonable apps are still somewhat skewed, although much less so than the dataset as a whole. We should be mindful of this in our analysis moving forward.\n",
    "\n",
    "Having grasped the behavior of the price by itself, it's time to compare it to the other columns.\n",
    "\n",
    "Several columns stand out as being relevant. We'll focus on the rating, category and genres. Let's start by visualizing how price relates to rating"
   ]
  },
  {
   "cell_type": "code",
   "execution_count": 58,
   "metadata": {},
   "outputs": [
    {
     "data": {
      "text/plain": [
       "<matplotlib.axes._subplots.AxesSubplot at 0x7f96e5723350>"
      ]
     },
     "execution_count": 58,
     "metadata": {},
     "output_type": "execute_result"
    },
    {
     "data": {
      "image/png": "[encoded data removed]",
      "text/plain": [
       "<Figure size 432x288 with 1 Axes>"
      ]
     },
     "metadata": {
      "needs_background": "light"
     },
     "output_type": "display_data"
    }
   ],
   "source": [
    "affordable_apps[cheap].plot(kind = 'scatter', x =\"Price\", y = \"Rating\")\n"
   ]
  },
  {
   "cell_type": "markdown",
   "metadata": {},
   "source": [
    "# Measuring \"how related\" two numerical ['Rating','Price'] variables."
   ]
  },
  {
   "cell_type": "code",
   "execution_count": 59,
   "metadata": {},
   "outputs": [
    {
     "data": {
      "text/html": [
       "<div>\n",
       "<style scoped>\n",
       "    .dataframe tbody tr th:only-of-type {\n",
       "        vertical-align: middle;\n",
       "    }\n",
       "\n",
       "    .dataframe tbody tr th {\n",
       "        vertical-align: top;\n",
       "    }\n",
       "\n",
       "    .dataframe thead th {\n",
       "        text-align: right;\n",
       "    }\n",
       "</style>\n",
       "<table border=\"1\" class=\"dataframe\">\n",
       "  <thead>\n",
       "    <tr style=\"text-align: right;\">\n",
       "      <th></th>\n",
       "      <th>Rating</th>\n",
       "      <th>Reviews</th>\n",
       "      <th>Size</th>\n",
       "      <th>Price</th>\n",
       "    </tr>\n",
       "  </thead>\n",
       "  <tbody>\n",
       "    <tr>\n",
       "      <th>Rating</th>\n",
       "      <td>1.000000</td>\n",
       "      <td>0.101934</td>\n",
       "      <td>0.098124</td>\n",
       "      <td>-0.048762</td>\n",
       "    </tr>\n",
       "    <tr>\n",
       "      <th>Price</th>\n",
       "      <td>-0.048762</td>\n",
       "      <td>0.004918</td>\n",
       "      <td>0.078832</td>\n",
       "      <td>1.000000</td>\n",
       "    </tr>\n",
       "  </tbody>\n",
       "</table>\n",
       "</div>"
      ],
      "text/plain": [
       "          Rating   Reviews      Size     Price\n",
       "Rating  1.000000  0.101934  0.098124 -0.048762\n",
       "Price  -0.048762  0.004918  0.078832  1.000000"
      ]
     },
     "execution_count": 59,
     "metadata": {},
     "output_type": "execute_result"
    }
   ],
   "source": [
    "affordable_apps[cheap].corr().loc[['Rating','Price']]\n",
    "\n"
   ]
  },
  {
   "cell_type": "markdown",
   "metadata": {},
   "source": [
    "In the graph above, we see that there doesn't seem to be any clear relation between price and rating for the cheap apps. In fact, the Pearson coefficient in this instance is around −0.05:\n",
    "\n",
    "This is good news for our price tweaking strategy, because it suggests that we can change prices without it being reflected in the apps' rating.\n",
    "\n",
    "We can increase the price of those apps that cost less than, say, the mean cheap price, to the mean cheap price. We would then monitor the behavior of these apps — possibly by using statistical techniques like hypothesis testing, which you'll learn later — to confirm that there is an increase in profits."
   ]
  },
  {
   "cell_type": "code",
   "execution_count": 60,
   "metadata": {},
   "outputs": [],
   "source": [
    "# Find the mean price of the cheap apps and assign it to cheap_mean.\n",
    "cheap_mean = affordable_apps.loc[cheap ,\"Price\"].mean()"
   ]
  },
  {
   "cell_type": "code",
   "execution_count": 61,
   "metadata": {},
   "outputs": [
    {
     "data": {
      "text/plain": [
       "2.5973246329526987"
      ]
     },
     "execution_count": 61,
     "metadata": {},
     "output_type": "execute_result"
    }
   ],
   "source": [
    "cheap_mean "
   ]
  },
  {
   "cell_type": "raw",
   "metadata": {},
   "source": [
    "For only the cheap apps, create a column in affordable_apps called price_criterion that takes the value 1 when the app's price is lower than cheap_mean, and 0 otherwise."
   ]
  },
  {
   "cell_type": "code",
   "execution_count": 62,
   "metadata": {},
   "outputs": [],
   "source": [
    "affordable_apps.loc[cheap, \"price_criterion\"] = affordable_apps[\"Price\"].apply(\n",
    "    lambda price: 1 if price < cheap_mean else 0\n",
    ")\n"
   ]
  },
  {
   "cell_type": "code",
   "execution_count": 63,
   "metadata": {},
   "outputs": [
    {
     "data": {
      "text/plain": [
       "0      0.0\n",
       "1      0.0\n",
       "2      0.0\n",
       "3      0.0\n",
       "4      0.0\n",
       "      ... \n",
       "791    1.0\n",
       "792    1.0\n",
       "793    1.0\n",
       "796    1.0\n",
       "797    1.0\n",
       "Name: price_criterion, Length: 613, dtype: float64"
      ]
     },
     "execution_count": 63,
     "metadata": {},
     "output_type": "execute_result"
    }
   ],
   "source": [
    "affordable_apps.loc[cheap, \"price_criterion\"]"
   ]
  },
  {
   "cell_type": "raw",
   "metadata": {},
   "source": [
    "Create a scatter plot for the reasonable "
   ]
  },
  {
   "cell_type": "code",
   "execution_count": 64,
   "metadata": {},
   "outputs": [
    {
     "data": {
      "text/plain": [
       "<matplotlib.axes._subplots.AxesSubplot at 0x7f96e5b8a690>"
      ]
     },
     "execution_count": 64,
     "metadata": {},
     "output_type": "execute_result"
    },
    {
     "data": {
      "image/png": "[encoded data removed]",
      "text/plain": [
       "<Figure size 432x288 with 1 Axes>"
      ]
     },
     "metadata": {
      "needs_background": "light"
     },
     "output_type": "display_data"
    }
   ],
   "source": [
    "\n",
    "affordable_apps[reasonable].plot(kind='scatter', x='Price',y=\"Rating\")"
   ]
  },
  {
   "cell_type": "markdown",
   "metadata": {},
   "source": [
    "# Let's Conclude that for reasonable apps there also isn't any significant relationship between price and rating."
   ]
  },
  {
   "cell_type": "code",
   "execution_count": 65,
   "metadata": {},
   "outputs": [
    {
     "data": {
      "text/plain": [
       "-0.11734743206298519"
      ]
     },
     "execution_count": 65,
     "metadata": {},
     "output_type": "execute_result"
    }
   ],
   "source": [
    "affordable_apps[reasonable].corr().loc['Rating','Price']"
   ]
  },
  {
   "cell_type": "markdown",
   "metadata": {},
   "source": [
    "In the graph above, we see that there doesn't seem to be any clear relation between price and rating for the cheap apps. In fact, the Pearson coefficient in this instance is around −0.1:"
   ]
  },
  {
   "cell_type": "code",
   "execution_count": 66,
   "metadata": {},
   "outputs": [],
   "source": [
    "# Find the mean price of the reasonable apps and assign it to cheap_mean.\n",
    "reasonable_mean = affordable_apps.loc[reasonable,\"Price\"].mean()"
   ]
  },
  {
   "cell_type": "code",
   "execution_count": 67,
   "metadata": {},
   "outputs": [],
   "source": [
    "# Find the mean price of the reasonable apps and assign it to cheap_mean.\n",
    "\n",
    "affordable_apps.loc[reasonable,\"price_criterion\"] = affordable_apps[\"Price\"].apply(\n",
    "    lambda price: 1 if price < reasonable_mean else 0)"
   ]
  },
  {
   "cell_type": "raw",
   "metadata": {},
   "source": [
    "Since affordable_apps has only around 700 rows and the genres column can take many different values, segmenting by this column could spread our data too thin to extract any significant insights. Instead of simply ignoring it, we'll extract some information from there and see where that leaves us.\n",
    "\n",
    "Looking at the possible values for this column, we see that ; isn't part of the name of any single genre:\n",
    "\n",
    "Let's create a column that counts the number of genres to which each app belongs. To do this, we'll use the Series.str.count() string accessor. It takes a regular expression as input and it counts the number of occurences of the given pattern."
   ]
  },
  {
   "cell_type": "code",
   "execution_count": 68,
   "metadata": {},
   "outputs": [
    {
     "data": {
      "text/plain": [
       "array(['Business', 'Communication', 'Dating', 'Education;Pretend Play',\n",
       "       'Education;Education', 'Entertainment', 'Food & Drink',\n",
       "       'Health & Fitness', 'Board', 'Puzzle', 'Strategy',\n",
       "       'Simulation;Education', 'Simulation', 'Action', 'Role Playing',\n",
       "       'Educational;Creativity', 'Educational;Pretend Play',\n",
       "       'Education;Creativity', 'Casual;Pretend Play', 'Casual;Education',\n",
       "       'Casual;Action & Adventure', 'Educational;Education',\n",
       "       'Board;Brain Games', 'Board;Pretend Play',\n",
       "       'Board;Action & Adventure', 'Education;Action & Adventure',\n",
       "       'Arcade;Action & Adventure', 'Card;Action & Adventure', 'Medical',\n",
       "       'Photography', 'Sports', 'Personalization', 'Productivity',\n",
       "       'Weather', 'Tools', 'Arcade', 'Racing', 'Education',\n",
       "       'Puzzle;Brain Games', 'Travel & Local', 'Lifestyle',\n",
       "       'Auto & Vehicles', 'Adventure', 'Card', 'Casual',\n",
       "       'News & Magazines', 'Shopping', 'Books & Reference', 'Social',\n",
       "       'Art & Design', 'Video Players & Editors', 'Finance',\n",
       "       'Adventure;Brain Games', 'Role Playing;Action & Adventure',\n",
       "       'Educational', 'Maps & Navigation', 'Parenting',\n",
       "       'Adventure;Action & Adventure', 'Casino', 'Education;Brain Games',\n",
       "       'Libraries & Demo', 'Action;Action & Adventure',\n",
       "       'Sports;Action & Adventure', 'Strategy;Action & Adventure',\n",
       "       'Racing;Action & Adventure', 'Books & Reference;Creativity',\n",
       "       'Music', 'Books & Reference;Education', 'Simulation;Pretend Play',\n",
       "       'Music;Music & Video', 'Role Playing;Education'], dtype=object)"
      ]
     },
     "execution_count": 68,
     "metadata": {},
     "output_type": "execute_result"
    }
   ],
   "source": [
    "affordable_apps['Genres'].unique()"
   ]
  },
  {
   "cell_type": "code",
   "execution_count": 69,
   "metadata": {},
   "outputs": [
    {
     "data": {
      "text/plain": [
       "0      1\n",
       "1      1\n",
       "2      1\n",
       "3      1\n",
       "4      1\n",
       "      ..\n",
       "793    1\n",
       "794    1\n",
       "795    1\n",
       "796    1\n",
       "797    1\n",
       "Name: genre_count, Length: 774, dtype: int64"
      ]
     },
     "execution_count": 69,
     "metadata": {},
     "output_type": "execute_result"
    }
   ],
   "source": [
    "affordable_apps[\"genre_count\"] = affordable_apps['Genres'].str.count(';')+1\n",
    "affordable_apps[\"genre_count\"]\n"
   ]
  },
  {
   "cell_type": "markdown",
   "metadata": {},
   "source": [
    "We counted the occurrences of ; in the Genres column above for each row, which give us the number of separators, and we added one to get the number of values."
   ]
  },
  {
   "cell_type": "code",
   "execution_count": 70,
   "metadata": {},
   "outputs": [
    {
     "data": {
      "text/html": [
       "<div>\n",
       "<style scoped>\n",
       "    .dataframe tbody tr th:only-of-type {\n",
       "        vertical-align: middle;\n",
       "    }\n",
       "\n",
       "    .dataframe tbody tr th {\n",
       "        vertical-align: top;\n",
       "    }\n",
       "\n",
       "    .dataframe thead th {\n",
       "        text-align: right;\n",
       "    }\n",
       "</style>\n",
       "<table border=\"1\" class=\"dataframe\">\n",
       "  <thead>\n",
       "    <tr style=\"text-align: right;\">\n",
       "      <th></th>\n",
       "      <th></th>\n",
       "      <th>Price</th>\n",
       "    </tr>\n",
       "    <tr>\n",
       "      <th>affordability</th>\n",
       "      <th>genre_count</th>\n",
       "      <th></th>\n",
       "    </tr>\n",
       "  </thead>\n",
       "  <tbody>\n",
       "    <tr>\n",
       "      <th rowspan=\"2\" valign=\"top\">cheap</th>\n",
       "      <th>1</th>\n",
       "      <td>2.519002</td>\n",
       "    </tr>\n",
       "    <tr>\n",
       "      <th>2</th>\n",
       "      <td>3.185833</td>\n",
       "    </tr>\n",
       "    <tr>\n",
       "      <th rowspan=\"2\" valign=\"top\">reasonable</th>\n",
       "      <th>1</th>\n",
       "      <td>13.071911</td>\n",
       "    </tr>\n",
       "    <tr>\n",
       "      <th>2</th>\n",
       "      <td>6.865000</td>\n",
       "    </tr>\n",
       "  </tbody>\n",
       "</table>\n",
       "</div>"
      ],
      "text/plain": [
       "                               Price\n",
       "affordability genre_count           \n",
       "cheap         1             2.519002\n",
       "              2             3.185833\n",
       "reasonable    1            13.071911\n",
       "              2             6.865000"
      ]
     },
     "execution_count": 70,
     "metadata": {},
     "output_type": "execute_result"
    }
   ],
   "source": [
    "# Let's now see how the mean price varies across the number of genres\n",
    "genres_mean  = affordable_apps.groupby([\"affordability\",\"genre_count\"]).mean().loc[:,[\"Price\"]]\n",
    "genres_mean "
   ]
  },
  {
   "cell_type": "markdown",
   "metadata": {},
   "source": [
    "Apps that belong to two genres are more expensive among the cheap apps and cheaper among the reasonable apps.\n",
    "\n",
    "For each segment, let's label the apps that cost less than their corresponding segments' mean with 1, and the others with 0:"
   ]
  },
  {
   "cell_type": "raw",
   "metadata": {},
   "source": [
    "For each segment in categories_mean, label the apps that cost less than its segment's mean with 1, and the others with 0. Create a column called category_criterion in affordable_apps with these labels."
   ]
  },
  {
   "cell_type": "code",
   "execution_count": 71,
   "metadata": {},
   "outputs": [],
   "source": [
    "def label_genres(row):\n",
    "    \"\"\"For each segment in `genres_mean`,\n",
    "    labels the apps that cost less than its segment's mean with `1`\n",
    "    and the others with `0`.\"\"\"\n",
    "  \n",
    "    price = row['Price']\n",
    "    if price > genres_mean.loc[row['affordability'],row['genre_count']][0]:\n",
    "        return 1\n",
    "    else:\n",
    "        return 0\n",
    "\n",
    "affordable_apps[\"genre_criterion\"] = affordable_apps.apply(\n",
    "    label_genres, axis=\"columns\")\n"
   ]
  },
  {
   "cell_type": "code",
   "execution_count": 72,
   "metadata": {},
   "outputs": [],
   "source": [
    "categories_mean = affordable_apps.groupby([\"affordability\",'Category']).mean()[['Price']]\n"
   ]
  },
  {
   "cell_type": "code",
   "execution_count": 73,
   "metadata": {},
   "outputs": [],
   "source": [
    "def label_categories(row):\n",
    "    \"\"\"For each segment in `categories_mean`,\n",
    "    labels the apps that cost less than its segment's mean with `1`\n",
    "    and the others with `0`.\"\"\"\n",
    "    aff = row['affordability']\n",
    "    cat = row[\"Category\"]\n",
    "    price = row['Price']\n",
    "    if price > categories_mean.loc[(aff, cat)][0]:\n",
    "        return 1\n",
    "    else:\n",
    "        0\n",
    "        \n",
    "\n",
    "affordable_apps[\"category_criterion\"] = affordable_apps.apply(\n",
    "    label_categories, axis=\"columns\")"
   ]
  },
  {
   "cell_type": "markdown",
   "metadata": {},
   "source": [
    "# Technique of majority voting."
   ]
  },
  {
   "cell_type": "raw",
   "metadata": {},
   "source": [
    "We can use a technique called majority voting, in which we decide whether an app's price should increase based on all criteria."
   ]
  },
  {
   "cell_type": "code",
   "execution_count": 74,
   "metadata": {},
   "outputs": [
    {
     "data": {
      "text/plain": [
       "384    1.0\n",
       "123    0.0\n",
       "68     1.0\n",
       "152    0.0\n",
       "647    1.0\n",
       "Name: Result, dtype: float64"
      ]
     },
     "execution_count": 74,
     "metadata": {},
     "output_type": "execute_result"
    }
   ],
   "source": [
    "criteria = [\"price_criterion\", \"genre_criterion\", \"category_criterion\"]\n",
    "# to find mode per each column.\n",
    "affordable_apps[\"Result\"] = affordable_apps[criteria].mode(axis='columns').drop([1],axis=1)\n",
    "affordable_apps[\"Result\"].sample(5)"
   ]
  },
  {
   "cell_type": "raw",
   "metadata": {},
   "source": [
    "It seems to be working as intendend. Let's see how many apps are eligible for a price increase:"
   ]
  },
  {
   "cell_type": "code",
   "execution_count": 75,
   "metadata": {},
   "outputs": [
    {
     "name": "stdout",
     "output_type": "stream",
     "text": [
      "333.0\n",
      "0.43023255813953487\n"
     ]
    }
   ],
   "source": [
    "nr_eleigible = affordable_apps[\"Result\"].sum()\n",
    "print(nr_eleigible , nr_eleigible/affordable_apps.shape[0], sep = \"\\n\")"
   ]
  },
  {
   "cell_type": "markdown",
   "metadata": {},
   "source": [
    "We see that 333 apps — roughly 43% of the paid apps — are eligible for a price increase. This is a significant number, and we consider the possibility that increasing the price for these apps will have a significant impact."
   ]
  },
  {
   "cell_type": "raw",
   "metadata": {},
   "source": [
    "We could potentially fall back on the number of installations as a proxy for this, but unfortunately, our Installs column just gives us ranges and not exact numbers.\n",
    "\n",
    "In any case, given the lack of options, we'll fall back on this obviously faulty proxy in order to estimate the impact. In addition to it not being the main goal of this prototype, the lack of data also makes it hard to decide what the optimal price for each app is. Instead, we'll use the mean price of the affordability of the eligible apps when it is higher than the current price.\n",
    "\n",
    "\n",
    "Recall that we've already computed the mean price for the cheap and reasonable apps, and they are stored respectively in cheap_mean and reasonable_mean.\n",
    "\n",
    "    Create a column in affordable_apps called New Price that should be:\n",
    "        The maximum between Price and cheap_mean for the cheap apps, rounded to two decimal places\n",
    "        The maximum between Price and reasonable_mean for the reasonable apps, rounded to two decimal places\n"
   ]
  },
  {
   "cell_type": "code",
   "execution_count": 76,
   "metadata": {},
   "outputs": [
    {
     "data": {
      "text/plain": [
       "0       4.99\n",
       "1       4.99\n",
       "2       4.99\n",
       "3       4.99\n",
       "4       3.99\n",
       "       ...  \n",
       "793     2.60\n",
       "794    12.92\n",
       "795    16.99\n",
       "796     2.60\n",
       "797     2.60\n",
       "Name: New price, Length: 774, dtype: float64"
      ]
     },
     "execution_count": 76,
     "metadata": {},
     "output_type": "execute_result"
    }
   ],
   "source": [
    "def new_price(row):\n",
    "    \n",
    "    if row[\"affordability\"] == \"cheap\":\n",
    "        return round(max(row[\"Price\"], cheap_mean), 2)\n",
    "    else:\n",
    "        return round(max(row[\"Price\"], reasonable_mean), 2)\n",
    "affordable_apps[\"New price\"] = affordable_apps.apply(new_price,axis=1)\n",
    "affordable_apps[\"New price\"] "
   ]
  },
  {
   "cell_type": "raw",
   "metadata": {},
   "source": [
    "Transform Installs into a numeric column:\n",
    "\n",
    "    Replace + and , with nothing.\n",
    "    Pass int to the Series.astype method to transform Installs in a numeric column.\n"
   ]
  },
  {
   "cell_type": "code",
   "execution_count": 77,
   "metadata": {},
   "outputs": [
    {
     "data": {
      "text/plain": [
       "0      100000\n",
       "1      100000\n",
       "2      100000\n",
       "3      100000\n",
       "4      100000\n",
       "        ...  \n",
       "793       100\n",
       "794      1000\n",
       "795     10000\n",
       "796     10000\n",
       "797        50\n",
       "Name: Installs, Length: 774, dtype: int64"
      ]
     },
     "execution_count": 77,
     "metadata": {},
     "output_type": "execute_result"
    }
   ],
   "source": [
    "affordable_apps['Installs']= affordable_apps['Installs'].str.replace(\"[+,]\",\"\").astype(int)\n",
    "affordable_apps['Installs']"
   ]
  },
  {
   "cell_type": "raw",
   "metadata": {},
   "source": [
    "Compute the difference between the new price and the current price. Multiply it by Installs.\n",
    "\n",
    "Create a column in affordable_apps called Impact"
   ]
  },
  {
   "cell_type": "code",
   "execution_count": 78,
   "metadata": {},
   "outputs": [
    {
     "data": {
      "text/plain": [
       "0          0.0\n",
       "1          0.0\n",
       "2          0.0\n",
       "3          0.0\n",
       "4          0.0\n",
       "        ...   \n",
       "793      161.0\n",
       "794     4930.0\n",
       "795        0.0\n",
       "796    14000.0\n",
       "797       78.0\n",
       "Name: Impact, Length: 774, dtype: float64"
      ]
     },
     "execution_count": 78,
     "metadata": {},
     "output_type": "execute_result"
    }
   ],
   "source": [
    "affordable_apps[\"Impact\"] = (affordable_apps[\"New price\"]-affordable_apps[\"Price\"])*affordable_apps[\"Installs\"]\n",
    "affordable_apps[\"Impact\"] "
   ]
  },
  {
   "cell_type": "code",
   "execution_count": 79,
   "metadata": {},
   "outputs": [
    {
     "data": {
      "text/plain": [
       "198582357.64999998"
      ]
     },
     "execution_count": 79,
     "metadata": {},
     "output_type": "execute_result"
    }
   ],
   "source": [
    "total_impact = affordable_apps[\"Impact\"].sum()\n",
    "total_impact "
   ]
  },
  {
   "cell_type": "code",
   "execution_count": null,
   "metadata": {},
   "outputs": [],
   "source": []
  },
  {
   "cell_type": "code",
   "execution_count": null,
   "metadata": {},
   "outputs": [],
   "source": []
  },
  {
   "cell_type": "code",
   "execution_count": null,
   "metadata": {},
   "outputs": [],
   "source": []
  }
 ],
 "metadata": {
  "kernelspec": {
   "display_name": "Python 3",
   "language": "python",
   "name": "python3"
  },
  "language_info": {
   "codemirror_mode": {
    "name": "ipython",
    "version": 3
   },
   "file_extension": ".py",
   "mimetype": "text/x-python",
   "name": "python",
   "nbconvert_exporter": "python",
   "pygments_lexer": "ipython3",
   "version": "3.7.6"
  }
 },
 "nbformat": 4,
 "nbformat_minor": 4
}
